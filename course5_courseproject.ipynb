{
 "cells": [
  {
   "cell_type": "markdown",
   "metadata": {},
   "source": [
    "# The Project #\n",
    "1. This is a project with minimal scaffolding. Expect to use the the discussion forums to gain insights! It’s not cheating to ask others for opinions or perspectives!\n",
    "2. Be inquisitive, try out new things.\n",
    "3. Use the previous modules for insights into how to complete the functions! You'll have to combine Pillow, OpenCV, and Pytesseract\n",
    "4. There are hints provided in Coursera, feel free to explore the hints if needed. Each hint provide progressively more details on how to solve the issue. This project is intended to be comprehensive and difficult if you do it without the hints.\n",
    "\n",
    "### The Assignment ###\n",
    "Take a [ZIP file](https://en.wikipedia.org/wiki/Zip_(file_format)) of images and process them, using a [library built into python](https://docs.python.org/3/library/zipfile.html) that you need to learn how to use. A ZIP file takes several different files and compresses them, thus saving space, into one single file. The files in the ZIP file we provide are newspaper images (like you saw in week 3). Your task is to write python code which allows one to search through the images looking for the occurrences of keywords and faces. E.g. if you search for \"pizza\" it will return a contact sheet of all of the faces which were located on the newspaper page which mentions \"pizza\". This will test your ability to learn a new ([library](https://docs.python.org/3/library/zipfile.html)), your ability to use OpenCV to detect faces, your ability to use tesseract to do optical character recognition, and your ability to use PIL to composite images together into contact sheets.\n",
    "\n",
    "Each page of the newspapers is saved as a single PNG image in a file called [images.zip](./readonly/images.zip). These newspapers are in english, and contain a variety of stories, advertisements and images. Note: This file is fairly large (~200 MB) and may take some time to work with, I would encourage you to use [small_img.zip](./readonly/small_img.zip) for testing.\n",
    "\n",
    "Here's an example of the output expected. Using the [small_img.zip](./readonly/small_img.zip) file, if I search for the string \"Christopher\" I should see the following image:\n",
    "![Christopher Search](./readonly/small_project.png)\n",
    "If I were to use the [images.zip](./readonly/images.zip) file and search for \"Mark\" I should see the following image (note that there are times when there are no faces on a page, but a word is found!):\n",
    "![Mark Search](./readonly/large_project.png)\n",
    "\n",
    "Note: That big file can take some time to process - for me it took nearly ten minutes! Use the small one for testing."
   ]
  },
  {
   "cell_type": "code",
   "execution_count": 2,
   "metadata": {},
   "outputs": [
    {
     "name": "stdout",
     "output_type": "stream",
     "text": [
      "Processing ./.cache/pip/wheels/ac/5b/f4/d5bcc930771126a32285e058c576eda84e43691453a9f7ad71/pytesseract-0.3.7-py2.py3-none-any.whl\n",
      "Requirement already satisfied: Pillow in /opt/conda/lib/python3.8/site-packages (from pytesseract) (7.2.0)\n",
      "Installing collected packages: pytesseract\n",
      "Successfully installed pytesseract-0.3.7\n",
      "Requirement already satisfied: opencv-python in /opt/conda/lib/python3.8/site-packages (4.4.0.46)\n",
      "Requirement already satisfied: numpy>=1.17.3 in /opt/conda/lib/python3.8/site-packages (from opencv-python) (1.19.2)\n"
     ]
    }
   ],
   "source": [
    "!pip install pytesseract\n",
    "!pip install opencv-python"
   ]
  },
  {
   "cell_type": "code",
   "execution_count": 3,
   "metadata": {},
   "outputs": [],
   "source": [
    "import zipfile\n",
    "\n",
    "from PIL import Image\n",
    "import pytesseract\n",
    "import cv2 as cv\n",
    "import numpy as np\n",
    "\n",
    "# loading the face detection classifier\n",
    "face_cascade = cv.CascadeClassifier('readonly/haarcascade_frontalface_default.xml')\n",
    "\n",
    "# the rest is up to you!"
   ]
  },
  {
   "cell_type": "markdown",
   "metadata": {},
   "source": [
    "### Define individual functions"
   ]
  },
  {
   "cell_type": "code",
   "execution_count": null,
   "metadata": {},
   "outputs": [],
   "source": [
    "# Small images to test, large images to submit\n",
    "SMALL_IMAGES_PATH = 'readonly/small_img.zip'\n",
    "LARGE_IMAGES_PATH = 'readonly/images.zip'\n",
    "\n",
    "def unzip_files(file_path):\n",
    "    \"\"\"\n",
    "    file_path: the file path where the zipped images are stored (small_img.zip or images.zip)\n",
    "    \n",
    "    Returns a dictionary of the images\n",
    "    \"\"\"\n",
    "    images = {}\n",
    "    images_text = {}\n",
    "    \n",
    "    folder = zipfile.ZipFile(f'{file_path}', 'r')\n",
    "    \n",
    "    # Loop through and save each image into a dictionary\n",
    "    for item in folder.infolist():\n",
    "        #print(item)\n",
    "        image = Image.open(folder.open(item)).convert('RGB')\n",
    "        #display(image)\n",
    "        #print(item.filename)\n",
    "        # Save these into our dictionary (small_img has 4 PNGs)\n",
    "        images[item.filename] = image\n",
    "     \n",
    "    return images\n",
    "\n",
    "\n",
    "def ocr_text(image_dict):\n",
    "    # Empty dictionary to hold our results\n",
    "    image_text = {}\n",
    "    \n",
    "    for key, value in image_dict.items():\n",
    "        text = pytesseract.image_to_string(value.convert(\"L\"))\n",
    "        image_text[key] = text \n",
    "        \n",
    "    return image_text\n",
    "\n",
    "images = unzip_files(SMALL_IMAGES_PATH)\n",
    "image_text = ocr_text(images)\n",
    "\n",
    "large_images = unzip_files(LARGE_IMAGES_PATH)\n",
    "large_images_text = ocr_text(large_images)\n",
    "\n",
    "\"\"\"\n",
    "# Check we got all the images        \n",
    "for key, value in images.items():\n",
    "    print(key)\n",
    "    print(type(value))\n",
    "    display(value)\n",
    "\"\"\""
   ]
  },
  {
   "cell_type": "code",
   "execution_count": null,
   "metadata": {},
   "outputs": [],
   "source": [
    "# Put a PIL image in, and get back list of cropped faces\n",
    "def get_faces(image):\n",
    "    \"\"\"\n",
    "    image: PIL image\n",
    "    \n",
    "    Returns a list of cropped faces\n",
    "    \"\"\"\n",
    "    draw = ImageDraw.Draw(image)\n",
    "    \n",
    "    # Rectangles around faces\n",
    "    bboxes = []\n",
    "    \n",
    "    faces = face_cascade.detectMultiScale(np.array(image), 1.3, 5)\n",
    "\n",
    "    cropped_faces = []\n",
    "    \n",
    "    for x, y, w, h in faces:\n",
    "        draw.rectangle((x, y, int(x + 1.1 * w), int(y + 1.1 * h)), outline=\"white\")\n",
    "        bboxes.append([x, y, int(1.1 * w), int(1.1 * h)])\n",
    "        cropped_image = image.crop((x, y, int(x + 1.1 * w), int(y + 1.1 * h)))\n",
    "        cropped_faces.append(cropped_image)\n",
    "    \n",
    "    return cropped_faces"
   ]
  },
  {
   "cell_type": "code",
   "execution_count": null,
   "metadata": {},
   "outputs": [],
   "source": [
    "# Make contact sheet\n",
    "def make_contact_sheet(list_of_images, num_of_images):\n",
    "    \"\"\"\n",
    "    list_of_images: a list of images that are cropped faces, returned by get_faces()\n",
    "    \n",
    "    Displays a contact sheet with the results\n",
    "    \"\"\"\n",
    "    # Rows of 5 images across    \n",
    "    if num_of_images % 5 == 0:\n",
    "        num_height = int(num_of_images / 5)\n",
    "    else:\n",
    "        num_height = int(num_of_images / 5) + 1\n",
    "    \n",
    "    \n",
    "    image_width = 50\n",
    "    image_height = 50\n",
    "    contact_sheet = Image.new('RGB', (image_width * 5, image_height * num_height))\n",
    "\n",
    "    x = 0\n",
    "    y = 0\n",
    "\n",
    "    for image in list_of_images:\n",
    "        image.thumbnail((image_width, image_height), Image.ANTIALIAS)\n",
    "\n",
    "        contact_sheet.paste(image, (x, y))\n",
    "\n",
    "        if x + image_width == contact_sheet.width:\n",
    "            x = 0\n",
    "            y = y + image_height\n",
    "        else:\n",
    "            x = x + image_width\n",
    "    display(contact_sheet)"
   ]
  },
  {
   "cell_type": "code",
   "execution_count": null,
   "metadata": {},
   "outputs": [],
   "source": [
    "# Search for the keyword in the image_text dictionary\n",
    "# Either prints out the contact sheet if it finds faces, or a statement\n",
    "def search_keyword(word, image_text):\n",
    "    \"\"\"\n",
    "    word: string, a keyword to be searched for in the text\n",
    "    image_text: dictionary, what was returned from pytesseract\n",
    "    \"\"\"\n",
    "    \n",
    "    for key, value in image_text.items():\n",
    "        if word in value:\n",
    "            print(f\"Keyword: {word}\")\n",
    "\n",
    "            # Add a statement that should be printed all the time\n",
    "            statement1 = f\"Results found in file {key}\"\n",
    "            \n",
    "            try:\n",
    "                # Get cropped faces\n",
    "                cropped_faces = get_faces(images[key])\n",
    "                print(statement1)\n",
    "                \n",
    "                # Put cropped faces into contact sheet\n",
    "                make_contact_sheet(cropped_faces, len(cropped_faces))\n",
    "            \n",
    "            # There might be KeyError if it can't find the faces\n",
    "            except:\n",
    "                statement2 =  \"\\nBut there were no faces in that file!\"\n",
    "                print(statement1 + statement2)"
   ]
  },
  {
   "cell_type": "markdown",
   "metadata": {},
   "source": [
    "### String all the functions together"
   ]
  },
  {
   "cell_type": "code",
   "execution_count": null,
   "metadata": {},
   "outputs": [],
   "source": [
    "# We'll use args to put in the dictionary for image_dict and image_text_dict\n",
    "# Can test on small images and the large images separately\n",
    "def search_in_newspaper(word, image_dict, image_text_dict):\n",
    "    \"\"\"\n",
    "    word: string, a keyword to be searched for in the text\n",
    "    image_dict: dictionary, when we open the zipped folder and save the images\n",
    "    image_text_dict: dictionary, what was returned from pytesseract\n",
    "    \"\"\"\n",
    "    for key, value in image_dict.items():\n",
    "        search_keyword(word, image_text_dict)"
   ]
  },
  {
   "cell_type": "markdown",
   "metadata": {},
   "source": [
    "### Search for keywords in small images"
   ]
  },
  {
   "cell_type": "code",
   "execution_count": null,
   "metadata": {},
   "outputs": [],
   "source": [
    "search_in_newspaper(\"Christopher\", images, image_text)"
   ]
  },
  {
   "cell_type": "code",
   "execution_count": null,
   "metadata": {},
   "outputs": [],
   "source": [
    "search_in_newspaper(\"Mark\", images, image_text)"
   ]
  },
  {
   "cell_type": "markdown",
   "metadata": {},
   "source": [
    "## Search for keywords in large images"
   ]
  },
  {
   "cell_type": "code",
   "execution_count": null,
   "metadata": {},
   "outputs": [],
   "source": [
    "large_images = unzip_files(LARGE_IMAGES_PATH)\n",
    "large_images_text = ocr_text(large_images)"
   ]
  },
  {
   "cell_type": "code",
   "execution_count": null,
   "metadata": {},
   "outputs": [],
   "source": [
    "search_in_newspaper(\"Christopher\", large_images, large_images_text)"
   ]
  },
  {
   "cell_type": "code",
   "execution_count": null,
   "metadata": {},
   "outputs": [],
   "source": [
    "search_in_newspaper(\"Mark\", large_images, large_images_text)"
   ]
  },
  {
   "cell_type": "markdown",
   "metadata": {},
   "source": [
    "### Hint 1\n",
    "To access the newspapers in the zipfile, you must first use the Zipfile library to open the zipfile then iterate through the objects (newspapers) in the zipfile using .infolist(). Try and write a simple routine to just go through the zipfile, printing out the name of the file as well as using display(). Remember that the PIL.Image library can .open() files, and that items in .infolist() in the zipfile each appear to Python just as if they were a file (these are called \"file-like\" objects). \n",
    "\n",
    "\n",
    "### Hint 2\n",
    "You can spend a lot of time converting between PIL.Image files and byte arrays, but you don't have to. Why not just store the PIL.Image objects in a global data structure, maybe a list or a dictionary indexed by name? Then you can further process this data structure, by adding in information such as the text detected on the pages or the bounding boxes behind faces.  Come to think of it, a list of dictionary objects, where each entry in the list would have the PIL image, the bounding boxes, and the text discovered on the page, would be a handy way to store this data.\n",
    "\n",
    "\n",
    "### Hint 3\n",
    "A quick reminder - in Python all strings are just like lists of characters. Kind of (remember they are immutable lists - more like tuples!). But this means you can use the in keyword to find substrings really easily. So the following statement will return True if the substring is matched: if \"Christopher\" in my_text  \n",
    "\n",
    "\n",
    "### Hint 4\n",
    "Creating the contact sheet can be a bit of a pain. But you can resize images without having to worry about the aspect ratio if you use the PIL.Image.thumbnail function. I used it when creating out the output images, maybe you should too! And check out the lecture on the contact sheet, you want to be careful that you don't \"walk off\" the end of the images when creating a row (or column). "
   ]
  },
  {
   "cell_type": "code",
   "execution_count": null,
   "metadata": {},
   "outputs": [],
   "source": []
  }
 ],
 "metadata": {
  "kernelspec": {
   "display_name": "Python 3",
   "language": "python",
   "name": "python3"
  },
  "language_info": {
   "codemirror_mode": {
    "name": "ipython",
    "version": 3
   },
   "file_extension": ".py",
   "mimetype": "text/x-python",
   "name": "python",
   "nbconvert_exporter": "python",
   "pygments_lexer": "ipython3",
   "version": "3.8.5"
  }
 },
 "nbformat": 4,
 "nbformat_minor": 4
}
